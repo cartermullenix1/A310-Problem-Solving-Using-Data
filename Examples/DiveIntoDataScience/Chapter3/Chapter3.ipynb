{
 "cells": [
  {
   "cell_type": "code",
   "execution_count": 28,
   "metadata": {},
   "outputs": [
    {
     "name": "stdout",
     "output_type": "stream",
     "text": [
      "              name team       position  height  weight    age\n",
      "0    Adam_Donachie  BAL        Catcher      74   180.0  22.99\n",
      "1        Paul_Bako  BAL        Catcher      74   215.0  34.69\n",
      "2  Ramon_Hernandez  BAL        Catcher      72   210.0  30.78\n",
      "3     Kevin_Millar  BAL  First_Baseman      72   210.0  35.43\n",
      "4      Chris_Gomez  BAL  First_Baseman      73   188.0  35.71\n",
      "(1034, 6)\n"
     ]
    }
   ],
   "source": [
    "import pandas as pd\n",
    "mlb = pd.read_csv('mlb.csv')\n",
    "print(mlb.head())\n",
    "print(mlb.shape)"
   ]
  },
  {
   "cell_type": "code",
   "execution_count": 29,
   "metadata": {},
   "outputs": [
    {
     "name": "stdout",
     "output_type": "stream",
     "text": [
      "            height       weight          age\n",
      "count  1034.000000  1033.000000  1034.000000\n",
      "mean     73.697292   201.689255    28.736712\n",
      "std       2.305818    20.991491     4.320310\n",
      "min      67.000000   150.000000    20.900000\n",
      "25%      72.000000   187.000000    25.440000\n",
      "50%      74.000000   200.000000    27.925000\n",
      "75%      75.000000   215.000000    31.232500\n",
      "max      83.000000   290.000000    48.520000\n"
     ]
    }
   ],
   "source": [
    "print(mlb.describe())"
   ]
  },
  {
   "cell_type": "code",
   "execution_count": 30,
   "metadata": {},
   "outputs": [
    {
     "data": {
      "image/png": "[encoded data removed]",
      "text/plain": [
       "<Figure size 640x480 with 1 Axes>"
      ]
     },
     "metadata": {},
     "output_type": "display_data"
    }
   ],
   "source": [
    "import matplotlib.pyplot as plt\n",
    "fig1, ax1 = plt.subplots()\n",
    "ax1.boxplot([mlb['height']])\n",
    "ax1.set_ylabel('Height (Inches)')\n",
    "plt.title('MLB Player Heights')\n",
    "plt.xticks([1], ['Full Population'])\n",
    "plt.show()"
   ]
  },
  {
   "cell_type": "code",
   "execution_count": 31,
   "metadata": {},
   "outputs": [],
   "source": [
    "sample1=mlb.sample(n=30,random_state=8675309)\n",
    "sample2=mlb.sample(n=30,random_state=1729)"
   ]
  },
  {
   "cell_type": "code",
   "execution_count": 32,
   "metadata": {},
   "outputs": [],
   "source": [
    "sample3=[71, 72, 73, 74, 74, 76, 75, 75, 75, 76, 75, 77, 76, 75, 77, 76, 75,\\\n",
    "76, 76, 75, 75, 81,77, 75, 77, 75, 77, 77, 75, 75]"
   ]
  },
  {
   "cell_type": "code",
   "execution_count": 33,
   "metadata": {},
   "outputs": [
    {
     "data": {
      "text/html": [
       "<div>\n",
       "<style scoped>\n",
       "    .dataframe tbody tr th:only-of-type {\n",
       "        vertical-align: middle;\n",
       "    }\n",
       "\n",
       "    .dataframe tbody tr th {\n",
       "        vertical-align: top;\n",
       "    }\n",
       "\n",
       "    .dataframe thead th {\n",
       "        text-align: right;\n",
       "    }\n",
       "</style>\n",
       "<table border=\"1\" class=\"dataframe\">\n",
       "  <thead>\n",
       "    <tr style=\"text-align: right;\">\n",
       "      <th></th>\n",
       "      <th>name</th>\n",
       "      <th>team</th>\n",
       "      <th>position</th>\n",
       "      <th>height</th>\n",
       "      <th>weight</th>\n",
       "      <th>age</th>\n",
       "    </tr>\n",
       "  </thead>\n",
       "  <tbody>\n",
       "    <tr>\n",
       "      <th>622</th>\n",
       "      <td>Brandon_Phillips</td>\n",
       "      <td>CIN</td>\n",
       "      <td>Second_Baseman</td>\n",
       "      <td>71</td>\n",
       "      <td>185.0</td>\n",
       "      <td>25.67</td>\n",
       "    </tr>\n",
       "    <tr>\n",
       "      <th>682</th>\n",
       "      <td>Manny_Corpas</td>\n",
       "      <td>COL</td>\n",
       "      <td>Relief_Pitcher</td>\n",
       "      <td>75</td>\n",
       "      <td>170.0</td>\n",
       "      <td>24.24</td>\n",
       "    </tr>\n",
       "    <tr>\n",
       "      <th>561</th>\n",
       "      <td>Tony_Clark</td>\n",
       "      <td>ARZ</td>\n",
       "      <td>First_Baseman</td>\n",
       "      <td>79</td>\n",
       "      <td>245.0</td>\n",
       "      <td>34.71</td>\n",
       "    </tr>\n",
       "    <tr>\n",
       "      <th>687</th>\n",
       "      <td>Jeremy_Affeldt</td>\n",
       "      <td>COL</td>\n",
       "      <td>Relief_Pitcher</td>\n",
       "      <td>76</td>\n",
       "      <td>215.0</td>\n",
       "      <td>27.73</td>\n",
       "    </tr>\n",
       "    <tr>\n",
       "      <th>75</th>\n",
       "      <td>Howie_Kendrick</td>\n",
       "      <td>ANA</td>\n",
       "      <td>First_Baseman</td>\n",
       "      <td>70</td>\n",
       "      <td>180.0</td>\n",
       "      <td>23.64</td>\n",
       "    </tr>\n",
       "    <tr>\n",
       "      <th>379</th>\n",
       "      <td>David_Riske</td>\n",
       "      <td>KC</td>\n",
       "      <td>Relief_Pitcher</td>\n",
       "      <td>74</td>\n",
       "      <td>190.0</td>\n",
       "      <td>30.35</td>\n",
       "    </tr>\n",
       "    <tr>\n",
       "      <th>473</th>\n",
       "      <td>Boof_Bonser</td>\n",
       "      <td>MIN</td>\n",
       "      <td>Starting_Pitcher</td>\n",
       "      <td>76</td>\n",
       "      <td>260.0</td>\n",
       "      <td>25.38</td>\n",
       "    </tr>\n",
       "    <tr>\n",
       "      <th>568</th>\n",
       "      <td>Carlos_Quentin</td>\n",
       "      <td>ARZ</td>\n",
       "      <td>Outfielder</td>\n",
       "      <td>73</td>\n",
       "      <td>225.0</td>\n",
       "      <td>24.51</td>\n",
       "    </tr>\n",
       "    <tr>\n",
       "      <th>8</th>\n",
       "      <td>Aubrey_Huff</td>\n",
       "      <td>BAL</td>\n",
       "      <td>Third_Baseman</td>\n",
       "      <td>76</td>\n",
       "      <td>231.0</td>\n",
       "      <td>30.19</td>\n",
       "    </tr>\n",
       "    <tr>\n",
       "      <th>444</th>\n",
       "      <td>Jean_Machi</td>\n",
       "      <td>TOR</td>\n",
       "      <td>Relief_Pitcher</td>\n",
       "      <td>72</td>\n",
       "      <td>160.0</td>\n",
       "      <td>24.08</td>\n",
       "    </tr>\n",
       "    <tr>\n",
       "      <th>172</th>\n",
       "      <td>Matt_Miller</td>\n",
       "      <td>CLE</td>\n",
       "      <td>Relief_Pitcher</td>\n",
       "      <td>75</td>\n",
       "      <td>215.0</td>\n",
       "      <td>35.27</td>\n",
       "    </tr>\n",
       "    <tr>\n",
       "      <th>627</th>\n",
       "      <td>Jeff_Keppinger</td>\n",
       "      <td>CIN</td>\n",
       "      <td>Third_Baseman</td>\n",
       "      <td>72</td>\n",
       "      <td>180.0</td>\n",
       "      <td>26.86</td>\n",
       "    </tr>\n",
       "    <tr>\n",
       "      <th>871</th>\n",
       "      <td>Paul_McAnulty</td>\n",
       "      <td>SD</td>\n",
       "      <td>Outfielder</td>\n",
       "      <td>70</td>\n",
       "      <td>220.0</td>\n",
       "      <td>26.01</td>\n",
       "    </tr>\n",
       "    <tr>\n",
       "      <th>911</th>\n",
       "      <td>Austin_Kearns</td>\n",
       "      <td>WAS</td>\n",
       "      <td>Outfielder</td>\n",
       "      <td>75</td>\n",
       "      <td>220.0</td>\n",
       "      <td>26.78</td>\n",
       "    </tr>\n",
       "    <tr>\n",
       "      <th>626</th>\n",
       "      <td>Edwin_Encarnacion</td>\n",
       "      <td>CIN</td>\n",
       "      <td>Third_Baseman</td>\n",
       "      <td>73</td>\n",
       "      <td>195.0</td>\n",
       "      <td>24.15</td>\n",
       "    </tr>\n",
       "    <tr>\n",
       "      <th>750</th>\n",
       "      <td>Miguel_Asencio</td>\n",
       "      <td>HOU</td>\n",
       "      <td>Relief_Pitcher</td>\n",
       "      <td>74</td>\n",
       "      <td>190.0</td>\n",
       "      <td>26.42</td>\n",
       "    </tr>\n",
       "    <tr>\n",
       "      <th>559</th>\n",
       "      <td>Conor_Jackson</td>\n",
       "      <td>ARZ</td>\n",
       "      <td>First_Baseman</td>\n",
       "      <td>74</td>\n",
       "      <td>225.0</td>\n",
       "      <td>24.82</td>\n",
       "    </tr>\n",
       "    <tr>\n",
       "      <th>661</th>\n",
       "      <td>Garrett_Atkins</td>\n",
       "      <td>COL</td>\n",
       "      <td>Third_Baseman</td>\n",
       "      <td>75</td>\n",
       "      <td>210.0</td>\n",
       "      <td>27.22</td>\n",
       "    </tr>\n",
       "    <tr>\n",
       "      <th>280</th>\n",
       "      <td>Rene_Rivera</td>\n",
       "      <td>SEA</td>\n",
       "      <td>Catcher</td>\n",
       "      <td>70</td>\n",
       "      <td>190.0</td>\n",
       "      <td>23.58</td>\n",
       "    </tr>\n",
       "    <tr>\n",
       "      <th>212</th>\n",
       "      <td>Wil_Nieves</td>\n",
       "      <td>NYY</td>\n",
       "      <td>Catcher</td>\n",
       "      <td>71</td>\n",
       "      <td>190.0</td>\n",
       "      <td>29.43</td>\n",
       "    </tr>\n",
       "    <tr>\n",
       "      <th>821</th>\n",
       "      <td>Antonio_Alfonseca</td>\n",
       "      <td>PHI</td>\n",
       "      <td>Relief_Pitcher</td>\n",
       "      <td>77</td>\n",
       "      <td>250.0</td>\n",
       "      <td>34.87</td>\n",
       "    </tr>\n",
       "    <tr>\n",
       "      <th>400</th>\n",
       "      <td>Edinson_Volquez</td>\n",
       "      <td>TEX</td>\n",
       "      <td>Starting_Pitcher</td>\n",
       "      <td>73</td>\n",
       "      <td>190.0</td>\n",
       "      <td>23.66</td>\n",
       "    </tr>\n",
       "    <tr>\n",
       "      <th>175</th>\n",
       "      <td>Jason_Kendall</td>\n",
       "      <td>OAK</td>\n",
       "      <td>Catcher</td>\n",
       "      <td>72</td>\n",
       "      <td>195.0</td>\n",
       "      <td>32.68</td>\n",
       "    </tr>\n",
       "    <tr>\n",
       "      <th>548</th>\n",
       "      <td>Mark_Prior</td>\n",
       "      <td>CHC</td>\n",
       "      <td>Starting_Pitcher</td>\n",
       "      <td>77</td>\n",
       "      <td>230.0</td>\n",
       "      <td>26.48</td>\n",
       "    </tr>\n",
       "    <tr>\n",
       "      <th>74</th>\n",
       "      <td>Robb_Quinlan</td>\n",
       "      <td>ANA</td>\n",
       "      <td>First_Baseman</td>\n",
       "      <td>73</td>\n",
       "      <td>200.0</td>\n",
       "      <td>29.95</td>\n",
       "    </tr>\n",
       "    <tr>\n",
       "      <th>619</th>\n",
       "      <td>David_Ross</td>\n",
       "      <td>CIN</td>\n",
       "      <td>Catcher</td>\n",
       "      <td>74</td>\n",
       "      <td>205.0</td>\n",
       "      <td>29.95</td>\n",
       "    </tr>\n",
       "    <tr>\n",
       "      <th>736</th>\n",
       "      <td>Adam_Everett</td>\n",
       "      <td>HOU</td>\n",
       "      <td>Shortstop</td>\n",
       "      <td>72</td>\n",
       "      <td>170.0</td>\n",
       "      <td>30.06</td>\n",
       "    </tr>\n",
       "    <tr>\n",
       "      <th>323</th>\n",
       "      <td>Rocco_Baldelli</td>\n",
       "      <td>TB</td>\n",
       "      <td>Outfielder</td>\n",
       "      <td>76</td>\n",
       "      <td>187.0</td>\n",
       "      <td>25.43</td>\n",
       "    </tr>\n",
       "    <tr>\n",
       "      <th>674</th>\n",
       "      <td>Aaron_Cook</td>\n",
       "      <td>COL</td>\n",
       "      <td>Starting_Pitcher</td>\n",
       "      <td>75</td>\n",
       "      <td>205.0</td>\n",
       "      <td>28.06</td>\n",
       "    </tr>\n",
       "    <tr>\n",
       "      <th>587</th>\n",
       "      <td>Mike_Jacobs</td>\n",
       "      <td>FLA</td>\n",
       "      <td>First_Baseman</td>\n",
       "      <td>74</td>\n",
       "      <td>180.0</td>\n",
       "      <td>26.33</td>\n",
       "    </tr>\n",
       "  </tbody>\n",
       "</table>\n",
       "</div>"
      ],
      "text/plain": [
       "                  name team          position  height  weight    age\n",
       "622   Brandon_Phillips  CIN    Second_Baseman      71   185.0  25.67\n",
       "682       Manny_Corpas  COL    Relief_Pitcher      75   170.0  24.24\n",
       "561         Tony_Clark  ARZ     First_Baseman      79   245.0  34.71\n",
       "687     Jeremy_Affeldt  COL    Relief_Pitcher      76   215.0  27.73\n",
       "75      Howie_Kendrick  ANA     First_Baseman      70   180.0  23.64\n",
       "379        David_Riske   KC    Relief_Pitcher      74   190.0  30.35\n",
       "473        Boof_Bonser  MIN  Starting_Pitcher      76   260.0  25.38\n",
       "568     Carlos_Quentin  ARZ        Outfielder      73   225.0  24.51\n",
       "8          Aubrey_Huff  BAL     Third_Baseman      76   231.0  30.19\n",
       "444         Jean_Machi  TOR    Relief_Pitcher      72   160.0  24.08\n",
       "172        Matt_Miller  CLE    Relief_Pitcher      75   215.0  35.27\n",
       "627     Jeff_Keppinger  CIN     Third_Baseman      72   180.0  26.86\n",
       "871      Paul_McAnulty   SD        Outfielder      70   220.0  26.01\n",
       "911      Austin_Kearns  WAS        Outfielder      75   220.0  26.78\n",
       "626  Edwin_Encarnacion  CIN     Third_Baseman      73   195.0  24.15\n",
       "750     Miguel_Asencio  HOU    Relief_Pitcher      74   190.0  26.42\n",
       "559      Conor_Jackson  ARZ     First_Baseman      74   225.0  24.82\n",
       "661     Garrett_Atkins  COL     Third_Baseman      75   210.0  27.22\n",
       "280        Rene_Rivera  SEA           Catcher      70   190.0  23.58\n",
       "212         Wil_Nieves  NYY           Catcher      71   190.0  29.43\n",
       "821  Antonio_Alfonseca  PHI    Relief_Pitcher      77   250.0  34.87\n",
       "400    Edinson_Volquez  TEX  Starting_Pitcher      73   190.0  23.66\n",
       "175      Jason_Kendall  OAK           Catcher      72   195.0  32.68\n",
       "548         Mark_Prior  CHC  Starting_Pitcher      77   230.0  26.48\n",
       "74        Robb_Quinlan  ANA     First_Baseman      73   200.0  29.95\n",
       "619         David_Ross  CIN           Catcher      74   205.0  29.95\n",
       "736       Adam_Everett  HOU         Shortstop      72   170.0  30.06\n",
       "323     Rocco_Baldelli   TB        Outfielder      76   187.0  25.43\n",
       "674         Aaron_Cook  COL  Starting_Pitcher      75   205.0  28.06\n",
       "587        Mike_Jacobs  FLA     First_Baseman      74   180.0  26.33"
      ]
     },
     "execution_count": 33,
     "metadata": {},
     "output_type": "execute_result"
    }
   ],
   "source": [
    "sample1"
   ]
  },
  {
   "cell_type": "code",
   "execution_count": 34,
   "metadata": {},
   "outputs": [
    {
     "data": {
      "image/png": "[encoded data removed]",
      "text/plain": [
       "<Figure size 640x480 with 1 Axes>"
      ]
     },
     "metadata": {},
     "output_type": "display_data"
    }
   ],
   "source": [
    "import numpy as np\n",
    "fig1, ax1 = plt.subplots()\n",
    "ax1.boxplot([mlb['height'],sample1['height'],sample2['height'],np.array(sample3)])\n",
    "ax1.set_ylabel('Height (Inches)')\n",
    "plt.title('MLB Player Heights')\n",
    "plt.xticks([1,2,3,4], ['Full Population','Sample 1','Sample 2','Sample 3'])\n",
    "plt.show()"
   ]
  },
  {
   "cell_type": "code",
   "execution_count": 35,
   "metadata": {},
   "outputs": [
    {
     "name": "stdout",
     "output_type": "stream",
     "text": [
      "73.8\n",
      "74.36666666666666\n",
      "75.43333333333334\n"
     ]
    }
   ],
   "source": [
    "print(np.mean(sample1['height']))\n",
    "print(np.mean(sample2['height']))\n",
    "print(np.mean(sample3))"
   ]
  },
  {
   "cell_type": "code",
   "execution_count": 36,
   "metadata": {},
   "outputs": [
    {
     "name": "stdout",
     "output_type": "stream",
     "text": [
      "[0.8333333333333286, -0.30000000000001137, -0.10000000000000853, -0.1666666666666572, 0.06666666666667709, -0.9666666666666686, 0.7999999999999972, 0.9333333333333371, -0.5333333333333314, -0.20000000000000284]\n"
     ]
    }
   ],
   "source": [
    "alldifferences=[]\n",
    "for i in range(1000):\n",
    "    newsample1=mlb.sample(n=30,random_state=i*2)\n",
    "    newsample2=mlb.sample(n=30,random_state=i*2+1)\n",
    "    alldifferences.append(newsample1['height'].mean()-newsample2['height'].mean())\n",
    "print(alldifferences[0:10])"
   ]
  },
  {
   "cell_type": "code",
   "execution_count": 37,
   "metadata": {},
   "outputs": [
    {
     "name": "stderr",
     "output_type": "stream",
     "text": [
      "/var/folders/f1/6q1lvqh56gqghd_wxbgcsyxc0000gn/T/ipykernel_51503/2366243221.py:3: UserWarning: \n",
      "\n",
      "`distplot` is a deprecated function and will be removed in seaborn v0.14.0.\n",
      "\n",
      "Please adapt your code to use either `displot` (a figure-level function with\n",
      "similar flexibility) or `histplot` (an axes-level function for histograms).\n",
      "\n",
      "For a guide to updating your code to use the new functions, please see\n",
      "https://gist.github.com/mwaskom/de44147ed2974457ad6372750bbe5751\n",
      "\n",
      "  ax=sns.distplot(alldifferences).set_title(\"Differences Between Sample Means\")\n"
     ]
    },
    {
     "data": {
      "image/png": "[encoded data removed]",
      "text/plain": [
       "<Figure size 640x480 with 1 Axes>"
      ]
     },
     "metadata": {},
     "output_type": "display_data"
    }
   ],
   "source": [
    "import seaborn as sns\n",
    "sns.set()\n",
    "ax=sns.distplot(alldifferences).set_title(\"Differences Between Sample Means\")\n",
    "plt.xlabel('Difference Between Means (Inches)')\n",
    "plt.ylabel('Relative Frequency')\n",
    "plt.show()"
   ]
  },
  {
   "cell_type": "code",
   "execution_count": 38,
   "metadata": {},
   "outputs": [
    {
     "name": "stdout",
     "output_type": "stream",
     "text": [
      "8\n"
     ]
    }
   ],
   "source": [
    "largedifferences=[diff for diff in alldifferences if abs(diff)>=1.6]\n",
    "print(len(largedifferences))"
   ]
  },
  {
   "cell_type": "code",
   "execution_count": 39,
   "metadata": {},
   "outputs": [
    {
     "name": "stdout",
     "output_type": "stream",
     "text": [
      "314\n"
     ]
    }
   ],
   "source": [
    "smalldifferences=[diff for diff in alldifferences if abs(diff)>=0.6]\n",
    "print(len(smalldifferences))"
   ]
  },
  {
   "cell_type": "code",
   "execution_count": 40,
   "metadata": {},
   "outputs": [
    {
     "data": {
      "text/plain": [
       "TtestResult(statistic=-1.0839563860213952, pvalue=0.28286958923051514, df=58.0)"
      ]
     },
     "execution_count": 40,
     "metadata": {},
     "output_type": "execute_result"
    }
   ],
   "source": [
    "import scipy.stats\n",
    "scipy.stats.ttest_ind(sample1['height'],sample2['height'])"
   ]
  },
  {
   "cell_type": "code",
   "execution_count": 44,
   "metadata": {},
   "outputs": [
    {
     "data": {
      "text/plain": [
       "MannwhitneyuResult(statistic=392.0, pvalue=0.38913738408151577)"
      ]
     },
     "execution_count": 44,
     "metadata": {},
     "output_type": "execute_result"
    }
   ],
   "source": [
    "scipy.stats.mannwhitneyu(sample1['height'],sample2['height'])"
   ]
  },
  {
   "cell_type": "code",
   "execution_count": 45,
   "metadata": {},
   "outputs": [],
   "source": [
    "desktop=pd.read_csv('desktop.csv')\n",
    "laptop=pd.read_csv('laptop.csv')"
   ]
  },
  {
   "cell_type": "code",
   "execution_count": 46,
   "metadata": {},
   "outputs": [
    {
     "data": {
      "image/png": "[encoded data removed]",
      "text/plain": [
       "<Figure size 640x480 with 1 Axes>"
      ]
     },
     "metadata": {},
     "output_type": "display_data"
    }
   ],
   "source": [
    "import matplotlib.pyplot as plt\n",
    "sns.reset_orig()\n",
    "fig1, ax1 = plt.subplots()\n",
    "ax1.set_title('Spending by Desktop and Laptop Subscribers')\n",
    "ax1.boxplot([desktop['spending'].values,laptop['spending'].values])\n",
    "ax1.set_ylabel('Spending ($)')\n",
    "plt.xticks([1,2], ['Desktop Subscribers','Laptop Subscribers'])\n",
    "plt.show()"
   ]
  },
  {
   "cell_type": "code",
   "execution_count": 47,
   "metadata": {},
   "outputs": [
    {
     "name": "stdout",
     "output_type": "stream",
     "text": [
      "35.766666666666666\n",
      "38.733333333333334\n",
      "32.0\n",
      "33.0\n",
      "957.5\n",
      "1528.25\n",
      "14.943634839697543\n"
     ]
    }
   ],
   "source": [
    "print(np.mean(desktop['age']))\n",
    "print(np.mean(laptop['age']))\n",
    "print(np.median(desktop['age']))\n",
    "print(np.median(laptop['age']))\n",
    "print(np.quantile(laptop['spending'],.25))\n",
    "print(np.quantile(desktop['spending'],.75))\n",
    "print(np.std(desktop['age']))"
   ]
  },
  {
   "cell_type": "code",
   "execution_count": 48,
   "metadata": {},
   "outputs": [
    {
     "data": {
      "text/plain": [
       "TtestResult(statistic=-2.109853741030508, pvalue=0.03919630411621093, df=58.0)"
      ]
     },
     "execution_count": 48,
     "metadata": {},
     "output_type": "execute_result"
    }
   ],
   "source": [
    "scipy.stats.ttest_ind(desktop['spending'],laptop['spending'])"
   ]
  },
  {
   "cell_type": "code",
   "execution_count": null,
   "metadata": {},
   "outputs": [],
   "source": []
  }
 ],
 "metadata": {
  "kernelspec": {
   "display_name": "Python 3",
   "language": "python",
   "name": "python3"
  },
  "language_info": {
   "codemirror_mode": {
    "name": "ipython",
    "version": 3
   },
   "file_extension": ".py",
   "mimetype": "text/x-python",
   "name": "python",
   "nbconvert_exporter": "python",
   "pygments_lexer": "ipython3",
   "version": "3.11.5"
  }
 },
 "nbformat": 4,
 "nbformat_minor": 2
}
