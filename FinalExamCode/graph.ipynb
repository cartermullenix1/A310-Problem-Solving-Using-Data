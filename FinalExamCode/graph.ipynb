{
 "cells": [
  {
   "cell_type": "code",
   "execution_count": 1,
   "metadata": {},
   "outputs": [],
   "source": [
    "import numpy as np"
   ]
  },
  {
   "cell_type": "code",
   "execution_count": 2,
   "metadata": {},
   "outputs": [],
   "source": [
    "mp = \"\"\"\\\n",
    "....X.....\n",
    "....X.....\n",
    "....X.....\n",
    "....X.....\n",
    "..........\n",
    "\"\"\""
   ]
  },
  {
   "cell_type": "code",
   "execution_count": 3,
   "metadata": {},
   "outputs": [
    {
     "data": {
      "text/plain": [
       "'....X.....\\n....X.....\\n....X.....\\n....X.....\\n..........\\n'"
      ]
     },
     "execution_count": 3,
     "metadata": {},
     "output_type": "execute_result"
    }
   ],
   "source": [
    "mp"
   ]
  },
  {
   "cell_type": "code",
   "execution_count": 4,
   "metadata": {},
   "outputs": [],
   "source": [
    "def measure(path):\n",
    "    (a, count) = (path[0], 0)\n",
    "    for b in path[1:]:\n",
    "        count += distance(a, b)\n",
    "        a = b\n",
    "    return count\n",
    "\n",
    "def distance(a,b):\n",
    "    if a == b:\n",
    "        return 0\n",
    "    elif a[0] == b[0] or a[1] == b[1]:\n",
    "        return 1\n",
    "    else:\n",
    "        return 1.4142\n",
    "        \n",
    "\n",
    "\n",
    "# chad = [(0,0), (1,1), (2,2), (3,3), (4,4), (3,5), (2,6), (3,7), (4,8)]\n",
    "# print(measure(chad))\n",
    "\n",
    "map = {}\n",
    "\n",
    "(line, column, width, height) = (0, 0, 0, 0)\n",
    "for c in mp:\n",
    "    if c == '\\n':\n",
    "        line += 1\n",
    "        width = column\n",
    "        column = 0\n",
    "    else:\n",
    "        if c == 'X':\n",
    "            pass\n",
    "        else:\n",
    "            location = (line, column)\n",
    "            map[location] = []\n",
    "        column += 1\n",
    "height = line\n",
    "map['width'] = width\n",
    "map['height'] = height\n",
    "\n",
    "for line in range(map['height']):\n",
    "    for column in range(map['width']):\n",
    "        location = (line, column)\n",
    "        if location in map:\n",
    "            for dx in [1, 0, -1]: # perhaps we could be smarter in choosing neighbors\n",
    "                for dy in [1, 0, -1]: # nearest neighbors\n",
    "                    neighbor = (line + dy, column + dx)\n",
    "                    if neighbor != location and neighbor in map:\n",
    "                        map[location] += [ neighbor ]\n",
    "                        \n",
    "                        \n",
    "\n",
    "# map['A'] = ['B','C','D']\n",
    "# map['B'] = ['A','E']\n",
    "# map['C'] = ['A','H']\n",
    "# map['D'] = ['A','F']\n",
    "# map['E'] = ['B','I']\n",
    "# map['F'] = ['D','G']\n",
    "# map['G'] = ['F','I']\n",
    "# map['H'] = ['C']\n",
    "# map['I'] = ['E','G']"
   ]
  },
  {
   "cell_type": "code",
   "execution_count": 5,
   "metadata": {},
   "outputs": [
    {
     "name": "stdout",
     "output_type": "stream",
     "text": [
      "[(4, 5), (3, 5), (4, 3), (3, 3)]\n",
      "5\n",
      "10\n",
      "{(0, 0): [(1, 1), (0, 1), (1, 0)], (0, 1): [(1, 2), (0, 2), (1, 1), (1, 0), (0, 0)], (0, 2): [(1, 3), (0, 3), (1, 2), (1, 1), (0, 1)], (0, 3): [(1, 3), (1, 2), (0, 2)], (0, 5): [(1, 6), (0, 6), (1, 5)], (0, 6): [(1, 7), (0, 7), (1, 6), (1, 5), (0, 5)], (0, 7): [(1, 8), (0, 8), (1, 7), (1, 6), (0, 6)], (0, 8): [(1, 9), (0, 9), (1, 8), (1, 7), (0, 7)], (0, 9): [(1, 9), (1, 8), (0, 8)], (1, 0): [(2, 1), (1, 1), (0, 1), (2, 0), (0, 0)], (1, 1): [(2, 2), (1, 2), (0, 2), (2, 1), (0, 1), (2, 0), (1, 0), (0, 0)], (1, 2): [(2, 3), (1, 3), (0, 3), (2, 2), (0, 2), (2, 1), (1, 1), (0, 1)], (1, 3): [(2, 3), (0, 3), (2, 2), (1, 2), (0, 2)], (1, 5): [(2, 6), (1, 6), (0, 6), (2, 5), (0, 5)], (1, 6): [(2, 7), (1, 7), (0, 7), (2, 6), (0, 6), (2, 5), (1, 5), (0, 5)], (1, 7): [(2, 8), (1, 8), (0, 8), (2, 7), (0, 7), (2, 6), (1, 6), (0, 6)], (1, 8): [(2, 9), (1, 9), (0, 9), (2, 8), (0, 8), (2, 7), (1, 7), (0, 7)], (1, 9): [(2, 9), (0, 9), (2, 8), (1, 8), (0, 8)], (2, 0): [(3, 1), (2, 1), (1, 1), (3, 0), (1, 0)], (2, 1): [(3, 2), (2, 2), (1, 2), (3, 1), (1, 1), (3, 0), (2, 0), (1, 0)], (2, 2): [(3, 3), (2, 3), (1, 3), (3, 2), (1, 2), (3, 1), (2, 1), (1, 1)], (2, 3): [(3, 3), (1, 3), (3, 2), (2, 2), (1, 2)], (2, 5): [(3, 6), (2, 6), (1, 6), (3, 5), (1, 5)], (2, 6): [(3, 7), (2, 7), (1, 7), (3, 6), (1, 6), (3, 5), (2, 5), (1, 5)], (2, 7): [(3, 8), (2, 8), (1, 8), (3, 7), (1, 7), (3, 6), (2, 6), (1, 6)], (2, 8): [(3, 9), (2, 9), (1, 9), (3, 8), (1, 8), (3, 7), (2, 7), (1, 7)], (2, 9): [(3, 9), (1, 9), (3, 8), (2, 8), (1, 8)], (3, 0): [(4, 1), (3, 1), (2, 1), (4, 0), (2, 0)], (3, 1): [(4, 2), (3, 2), (2, 2), (4, 1), (2, 1), (4, 0), (3, 0), (2, 0)], (3, 2): [(4, 3), (3, 3), (2, 3), (4, 2), (2, 2), (4, 1), (3, 1), (2, 1)], (3, 3): [(4, 4), (4, 3), (2, 3), (4, 2), (3, 2), (2, 2)], (3, 5): [(4, 6), (3, 6), (2, 6), (4, 5), (2, 5), (4, 4)], (3, 6): [(4, 7), (3, 7), (2, 7), (4, 6), (2, 6), (4, 5), (3, 5), (2, 5)], (3, 7): [(4, 8), (3, 8), (2, 8), (4, 7), (2, 7), (4, 6), (3, 6), (2, 6)], (3, 8): [(4, 9), (3, 9), (2, 9), (4, 8), (2, 8), (4, 7), (3, 7), (2, 7)], (3, 9): [(4, 9), (2, 9), (4, 8), (3, 8), (2, 8)], (4, 0): [(4, 1), (3, 1), (3, 0)], (4, 1): [(4, 2), (3, 2), (3, 1), (4, 0), (3, 0)], (4, 2): [(4, 3), (3, 3), (3, 2), (4, 1), (3, 1)], (4, 3): [(4, 4), (3, 3), (4, 2), (3, 2)], (4, 4): [(4, 5), (3, 5), (4, 3), (3, 3)], (4, 5): [(4, 6), (3, 6), (3, 5), (4, 4)], (4, 6): [(4, 7), (3, 7), (3, 6), (4, 5), (3, 5)], (4, 7): [(4, 8), (3, 8), (3, 7), (4, 6), (3, 6)], (4, 8): [(4, 9), (3, 9), (3, 8), (4, 7), (3, 7)], (4, 9): [(3, 9), (4, 8), (3, 8)], 'width': 10, 'height': 5}\n"
     ]
    }
   ],
   "source": [
    "print(map[4,4])\n",
    "print(height)\n",
    "print(width)\n",
    "print(map)"
   ]
  },
  {
   "cell_type": "code",
   "execution_count": 6,
   "metadata": {},
   "outputs": [],
   "source": [
    "                        \n",
    "def show(paths):\n",
    "    for p in paths:\n",
    "        print(\"  \", p)\n",
    "    return \"[see below]\"\n",
    "\n",
    "solution = []\n",
    "\n",
    "def sp(path, target, graph):\n",
    "    global solution\n",
    "    # print(path, \"under consideration\")\n",
    "    if solution != [] and measure(path) > measure(solution):\n",
    "        return\n",
    "    if path == []:\n",
    "        pass # return []\n",
    "    elif path[-1] == target:\n",
    "        print(\"Solution: \", path) # Print when we find a solution\n",
    "        if solution == []:\n",
    "            solution = path\n",
    "        elif solution == [] or measure(solution) >= measure(path):\n",
    "            solution = path\n",
    "        else:\n",
    "            pass\n",
    "        # return path\n",
    "    else:\n",
    "        last = path[-1]\n",
    "        neighbors = graph[last]\n",
    "        for n in neighbors:\n",
    "            if n in path:\n",
    "                pass\n",
    "            else: \n",
    "                # print(\"Considering\", n)\n",
    "                # print(\"All neighbors\", neighbors)\n",
    "                newpath = path + [n]\n",
    "                sp(newpath,target,graph) # Removed the Return\n",
    "                # print(\"I am back\")\n",
    "\n",
    "# answer = sp([[\"G\"]], \"N\", map)"
   ]
  },
  {
   "cell_type": "code",
   "execution_count": 7,
   "metadata": {},
   "outputs": [],
   "source": [
    "startin= (0,0)\n",
    "goingto = (5,5)\n",
    "\n",
    "# answer =  sp([startin], goingto, map)"
   ]
  },
  {
   "cell_type": "code",
   "execution_count": 8,
   "metadata": {},
   "outputs": [
    {
     "name": "stdout",
     "output_type": "stream",
     "text": [
      "The current date and time is 11:45:42\n",
      "Solution:  [(0, 0), (1, 1), (2, 2), (3, 3), (4, 4), (4, 5), (4, 6), (4, 7), (4, 8), (4, 9)]\n",
      "The current date and time is 11:45:44\n"
     ]
    }
   ],
   "source": [
    "from datetime import datetime\n",
    "\n",
    "time_now = datetime.now().strftime(\"%H:%M:%S\")\n",
    "print(\"The current date and time is\", time_now)\n",
    "\n",
    "startin = (0, 0)\n",
    "goingto = (map[\"height\"]-1, map[\"width\"]-1)\n",
    "answer = sp([startin], goingto, map)\n",
    "\n",
    "time_now = datetime.now().strftime(\"%H:%M:%S\")\n",
    "print(\"The current date and time is\", time_now)\n",
    "\n",
    "\n",
    "letterlist = ['A','B','C','D','E','F','G','H','I','J','K','L','M','N','O','P','Q','R','S','T','U','V','W','Y','Z',\n",
    "              'a','b','c','e','f','g','h','i','j','k','l','m','n','o','p','q','r','s','u','v','w','x','y','z']\n",
    "\n",
    "def report(map, answer):\n",
    "    count = 0\n",
    "    for line in range(map['height']):\n",
    "        for column in range(map['width']):\n",
    "            location = (line, column)\n",
    "            if location in answer:\n",
    "                print(letterlist[count], end=' ')\n",
    "                count += 1\n",
    "            elif location in map:\n",
    "                print('.', end=' ')\n",
    "            else:\n",
    "                print('X', end=' ')\n",
    "        print()\n",
    "    print(\"Solution length: \", measure(solution))"
   ]
  },
  {
   "cell_type": "code",
   "execution_count": 9,
   "metadata": {},
   "outputs": [
    {
     "name": "stdout",
     "output_type": "stream",
     "text": [
      "A . . . X . . . . . \n",
      ". B . . X . . . . . \n",
      ". . C . X . . . . . \n",
      ". . . D X . . . . . \n",
      ". . . . E F G H I J \n",
      "Solution length:  10.6568\n"
     ]
    }
   ],
   "source": [
    "report(map, solution)"
   ]
  }
 ],
 "metadata": {
  "kernelspec": {
   "display_name": "Python 3",
   "language": "python",
   "name": "python3"
  },
  "language_info": {
   "codemirror_mode": {
    "name": "ipython",
    "version": 3
   },
   "file_extension": ".py",
   "mimetype": "text/x-python",
   "name": "python",
   "nbconvert_exporter": "python",
   "pygments_lexer": "ipython3",
   "version": "3.11.5"
  }
 },
 "nbformat": 4,
 "nbformat_minor": 2
}
