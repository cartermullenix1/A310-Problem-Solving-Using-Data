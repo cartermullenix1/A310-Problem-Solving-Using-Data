{
 "cells": [
  {
   "cell_type": "markdown",
   "metadata": {},
   "source": [
    "Lab 6 Problems"
   ]
  },
  {
   "cell_type": "markdown",
   "metadata": {},
   "source": [
    "Problem 1: Tower of Hanoi"
   ]
  },
  {
   "cell_type": "code",
   "execution_count": 101,
   "metadata": {},
   "outputs": [],
   "source": [
    "# A is target\n",
    "# B is Target\n",
    "# C is Intermediate\n",
    "# n is number of disks\n",
    "def hanoi(n, a, b, c):\n",
    "    if n == 1:\n",
    "        print(\"Move from \" + a + \" to \" + b)\n",
    "    else:\n",
    "        hanoi(n - 1, a, c, b) # Swapped the target and Intermediate\n",
    "        print(\"Move from \" + a + \" to \" + b)\n",
    "        hanoi(n - 1, c, b, a)"
   ]
  },
  {
   "cell_type": "code",
   "execution_count": 102,
   "metadata": {},
   "outputs": [
    {
     "name": "stdout",
     "output_type": "stream",
     "text": [
      "Move from 1 to 2\n",
      "Move from 1 to 3\n",
      "Move from 2 to 3\n",
      "Move from 1 to 2\n",
      "Move from 3 to 1\n",
      "Move from 3 to 2\n",
      "Move from 1 to 2\n"
     ]
    }
   ],
   "source": [
    "hanoi(3, \"1\", \"2\", \"3\")"
   ]
  },
  {
   "cell_type": "markdown",
   "metadata": {},
   "source": [
    "Problem 2: Permutations"
   ]
  },
  {
   "cell_type": "code",
   "execution_count": 103,
   "metadata": {},
   "outputs": [],
   "source": [
    "def fact(n):\n",
    "    if n ==0:\n",
    "        return 1\n",
    "    else:\n",
    "        # print(f\"I'm at {n}\")\n",
    "        return n * fact(n-1)\n",
    "\n",
    "def perm(x):\n",
    "    if len(x) == 1:\n",
    "        return [x]\n",
    "    permutations = []\n",
    "    \n",
    "    for i, char in enumerate(x):\n",
    "        # print(f\"{i}, {char}\")\n",
    "        \n",
    "        # A string without our current character\n",
    "        a = x[:i] + x[i+1:]\n",
    "        \n",
    "        # print(a)\n",
    "        \n",
    "        # Permuations of our string without a\n",
    "        perms_a = perm(a)\n",
    "        \n",
    "        # print(perms_a)\n",
    "        \n",
    "        for p in perms_a:\n",
    "            permutations.append(char + p)\n",
    "        \n",
    "    return permutations\n",
    "    "
   ]
  },
  {
   "cell_type": "code",
   "execution_count": 104,
   "metadata": {},
   "outputs": [
    {
     "data": {
      "text/plain": [
       "6"
      ]
     },
     "execution_count": 104,
     "metadata": {},
     "output_type": "execute_result"
    }
   ],
   "source": [
    "fact(3)"
   ]
  },
  {
   "cell_type": "code",
   "execution_count": 105,
   "metadata": {},
   "outputs": [
    {
     "data": {
      "text/plain": [
       "['abc', 'acb', 'bac', 'bca', 'cab', 'cba']"
      ]
     },
     "execution_count": 105,
     "metadata": {},
     "output_type": "execute_result"
    }
   ],
   "source": [
    "perm(\"abc\")"
   ]
  },
  {
   "cell_type": "code",
   "execution_count": 106,
   "metadata": {},
   "outputs": [
    {
     "name": "stdout",
     "output_type": "stream",
     "text": [
      "All assertions passed without a problem\n"
     ]
    }
   ],
   "source": [
    "assert sorted(perm(\"hat\")) == sorted(['hat', 'aht', 'ath', 'hta', 'tha', 'tah']), \"First assert fails.\"\n",
    "assert len(perm(\"race\")) == fact(len(\"race\")), \"Second assert fails.\"\n",
    "assert len(perm(\"whatever\")) == 40320, \"Third assert failed.\"\n",
    "print (\"All assertions passed without a problem\")"
   ]
  },
  {
   "cell_type": "markdown",
   "metadata": {},
   "source": [
    "Problem 3: Mimic Perl with RegEx"
   ]
  },
  {
   "cell_type": "code",
   "execution_count": 107,
   "metadata": {},
   "outputs": [
    {
     "name": "stdout",
     "output_type": "stream",
     "text": [
      "First Transformation: \n"
     ]
    },
    {
     "data": {
      "text/plain": [
       "'(1)(2)(3)(4)(5) (6)(7)(8)(9)'"
      ]
     },
     "execution_count": 107,
     "metadata": {},
     "output_type": "execute_result"
    }
   ],
   "source": [
    "import re\n",
    "\n",
    "digits = \"12345 6789\"\n",
    "\n",
    "# First Transformation\n",
    "print(\"First Transformation: \")\n",
    "re.sub('(\\d)', r\"(\\1)\", digits)"
   ]
  },
  {
   "cell_type": "code",
   "execution_count": 108,
   "metadata": {},
   "outputs": [
    {
     "name": "stdout",
     "output_type": "stream",
     "text": [
      "Second Transformation:\n"
     ]
    },
    {
     "data": {
      "text/plain": [
       "'21435 7698'"
      ]
     },
     "execution_count": 108,
     "metadata": {},
     "output_type": "execute_result"
    }
   ],
   "source": [
    "# Second Transfomation\n",
    "print(\"Second Transformation:\")\n",
    "\n",
    "digits = \"12345 6789\"\n",
    "\n",
    "re.sub('(\\d)(\\d)', r\"\\2\\1\", digits)"
   ]
  },
  {
   "cell_type": "code",
   "execution_count": 109,
   "metadata": {},
   "outputs": [
    {
     "name": "stdout",
     "output_type": "stream",
     "text": [
      "Third Transformation:\n"
     ]
    },
    {
     "data": {
      "text/plain": [
       "'375 1317'"
      ]
     },
     "execution_count": 109,
     "metadata": {},
     "output_type": "execute_result"
    }
   ],
   "source": [
    "# Third Transfomation\n",
    "print(\"Third Transformation:\")\n",
    "\n",
    "digits = \"12345 6789\"\n",
    "\n",
    "def add(a, b):\n",
    "    return int(a) + int(b)\n",
    "\n",
    "def radd(match):\n",
    "    a = match.group(1)\n",
    "    b = match.group(2)\n",
    "    # print(f\"a: {a}, b: {b}\")\n",
    "    return str(add(a,b))\n",
    "\n",
    "re.sub('(\\d)(\\d)', radd, digits)"
   ]
  }
 ],
 "metadata": {
  "kernelspec": {
   "display_name": "Python 3",
   "language": "python",
   "name": "python3"
  },
  "language_info": {
   "codemirror_mode": {
    "name": "ipython",
    "version": 3
   },
   "file_extension": ".py",
   "mimetype": "text/x-python",
   "name": "python",
   "nbconvert_exporter": "python",
   "pygments_lexer": "ipython3",
   "version": "3.11.5"
  },
  "orig_nbformat": 4
 },
 "nbformat": 4,
 "nbformat_minor": 2
}
